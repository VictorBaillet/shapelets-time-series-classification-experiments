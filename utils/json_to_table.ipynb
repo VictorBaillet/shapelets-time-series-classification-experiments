{
 "cells": [
  {
   "cell_type": "code",
   "execution_count": 11,
   "id": "76d93bf3-b104-4dbc-84a7-0044a4942839",
   "metadata": {
    "tags": []
   },
   "outputs": [],
   "source": [
    "import json"
   ]
  },
  {
   "cell_type": "code",
   "execution_count": 16,
   "id": "342f3d50-5233-44ba-b889-36d3f15f8357",
   "metadata": {
    "tags": []
   },
   "outputs": [],
   "source": [
    "file_path = \"results/classification/Synthetic_Mood's median test.json\"\n",
    "\n",
    "with open(file_path, 'r') as file:\n",
    "    data = json.load(file)"
   ]
  },
  {
   "cell_type": "code",
   "execution_count": 17,
   "id": "e6a1340d-9230-4f24-bdf5-92137662adfb",
   "metadata": {
    "tags": []
   },
   "outputs": [],
   "source": [
    "def convert_to_latex_table(dictionary, quality_measure_name):\n",
    "    \"\"\"\n",
    "    Convert the provided dictionary to a transposed LaTeX table,\n",
    "    making the highest score for each algorithm bold,\n",
    "    and the overall highest score in the table bold and red.\n",
    "\n",
    "    Parameters:\n",
    "    dictionary (dict): The dictionary to be converted.\n",
    "\n",
    "    Returns:\n",
    "    str: A string containing the LaTeX code for the transposed table.\n",
    "    \"\"\"\n",
    "    # Find scenarios that have values for all algorithms\n",
    "    valid_scenarios = [scenario for scenario, values in dictionary.items() if isinstance(values, dict)]\n",
    "\n",
    "    # Start the table and add the header\n",
    "    latex_table = \"\\\\begin{tabular}{|l|\" + \"c|\" * len(valid_scenarios) + \"}\\n\\\\hline\\n\"\n",
    "    header = \"\\\\textbf{\" + quality_measure_name + \"} & \" + \" & \".join(valid_scenarios) + \" \\\\\\\\ \\\\hline\\n\"\n",
    "    latex_table += header\n",
    "\n",
    "    # Determine the set of all algorithms used in the valid scenarios\n",
    "    algorithms = set()\n",
    "    for scenario in valid_scenarios:\n",
    "        algorithms.update(dictionary[scenario].keys())\n",
    "\n",
    "    # Find the max scores for each algorithm\n",
    "    max_scores_algo = {algo: max(dictionary[scenario][algo] for scenario in valid_scenarios) for algo in algorithms}\n",
    "\n",
    "    # Find the overall max score in the table\n",
    "    overall_max_score = max(max_scores_algo.values())\n",
    "\n",
    "    # Add rows for each algorithm\n",
    "    for algo in algorithms:\n",
    "        latex_table += f\"{algo} & \"\n",
    "        scores = []\n",
    "        for scenario in valid_scenarios:\n",
    "            score = dictionary[scenario][algo]\n",
    "            if score == overall_max_score:\n",
    "                # Overall best score in red\n",
    "                formatted_score = f\"\\\\textcolor{{red}}{{\\\\textbf{{{score:.4f}}}}}\"\n",
    "            elif score == max_scores_algo[algo]:\n",
    "                # Best score for the algorithm in bold\n",
    "                formatted_score = f\"\\\\textbf{{{score:.4f}}}\"\n",
    "            else:\n",
    "                formatted_score = f\"{score:.4f}\"\n",
    "            scores.append(formatted_score)\n",
    "        latex_table += \" & \".join(scores)\n",
    "        latex_table += \" \\\\\\\\ \\\\hline\\n\"\n",
    "\n",
    "    # End the table\n",
    "    latex_table += \"\\\\end{tabular}\"\n",
    "\n",
    "    return latex_table"
   ]
  },
  {
   "cell_type": "code",
   "execution_count": 18,
   "id": "9e4eb974-a037-479e-80e5-a0090a04d565",
   "metadata": {
    "tags": []
   },
   "outputs": [],
   "source": [
    "x_dataset_name = [\"GunPointAgeSpan\", \"Synthetic\", \"ECG200\", \"ECG Five Days\", \"Two Lead ECG\", \"Mote Strain\", \"Sony Robot\", \"Beef\"]\n",
    "x_quality_measure = [\"F_stat\", \"Information Gain\", \"Kruskal-Wallis test\", \"Mood's median test\"]"
   ]
  },
  {
   "cell_type": "code",
   "execution_count": 19,
   "id": "52d590d8-0995-4315-aa71-18d42d83e935",
   "metadata": {
    "tags": []
   },
   "outputs": [
    {
     "name": "stdout",
     "output_type": "stream",
     "text": [
      "GunPointAgeSpan F_stat\n",
      "Failed\n",
      "GunPointAgeSpan Information Gain\n",
      "Failed\n",
      "GunPointAgeSpan Kruskal-Wallis test\n",
      "Failed\n",
      "GunPointAgeSpan Mood's median test\n",
      "Failed\n",
      "Synthetic F_stat\n",
      "\\begin{tabular}{|l|c|c|c|c|c|c|c|c|}\n",
      "\\hline\n",
      "\\textbf{F_stat} & With 150 shapelets & With 75 shapelets & With 30 shapelets & With 10 shapelets & With 5 shapelets & With 10 clusters & With 5 clusters & On raw data \\\\ \\hline\n",
      "Naive Bayes & 0.9970 & 0.9970 & 0.9990 & 0.9990 & \\textcolor{red}{\\textbf{1.0000}} & \\textcolor{red}{\\textbf{1.0000}} & \\textcolor{red}{\\textbf{1.0000}} & 0.9130 \\\\ \\hline\n",
      "SVM (Linear) & \\textcolor{red}{\\textbf{1.0000}} & \\textcolor{red}{\\textbf{1.0000}} & 0.9990 & 0.9990 & \\textcolor{red}{\\textbf{1.0000}} & \\textcolor{red}{\\textbf{1.0000}} & \\textcolor{red}{\\textbf{1.0000}} & 0.9360 \\\\ \\hline\n",
      "Random Forest & 0.9990 & 0.9990 & 0.9990 & 0.9980 & \\textcolor{red}{\\textbf{1.0000}} & 0.9990 & 0.9990 & 0.9430 \\\\ \\hline\n",
      "1-NN & \\textcolor{red}{\\textbf{1.0000}} & \\textcolor{red}{\\textbf{1.0000}} & 0.9990 & 0.9990 & \\textcolor{red}{\\textbf{1.0000}} & \\textcolor{red}{\\textbf{1.0000}} & \\textcolor{red}{\\textbf{1.0000}} & 0.9970 \\\\ \\hline\n",
      "Decision Tree & \\textcolor{red}{\\textbf{1.0000}} & 0.9720 & 0.9970 & 0.9990 & \\textcolor{red}{\\textbf{1.0000}} & 0.9990 & 0.9790 & 0.7630 \\\\ \\hline\n",
      "\\end{tabular}\n",
      "Synthetic Information Gain\n",
      "\\begin{tabular}{|l|c|c|c|c|c|c|c|c|}\n",
      "\\hline\n",
      "\\textbf{Information Gain} & With 150 shapelets & With 75 shapelets & With 30 shapelets & With 10 shapelets & With 5 shapelets & With 10 clusters & With 5 clusters & On raw data \\\\ \\hline\n",
      "Naive Bayes & 0.9970 & 0.9970 & 0.9990 & 0.9990 & \\textcolor{red}{\\textbf{1.0000}} & \\textcolor{red}{\\textbf{1.0000}} & \\textcolor{red}{\\textbf{1.0000}} & 0.9130 \\\\ \\hline\n",
      "SVM (Linear) & \\textcolor{red}{\\textbf{1.0000}} & \\textcolor{red}{\\textbf{1.0000}} & 0.9990 & 0.9990 & \\textcolor{red}{\\textbf{1.0000}} & \\textcolor{red}{\\textbf{1.0000}} & \\textcolor{red}{\\textbf{1.0000}} & 0.9360 \\\\ \\hline\n",
      "Random Forest & 0.9980 & \\textcolor{red}{\\textbf{1.0000}} & 0.9990 & 0.9980 & \\textcolor{red}{\\textbf{1.0000}} & 0.9990 & \\textcolor{red}{\\textbf{1.0000}} & 0.9470 \\\\ \\hline\n",
      "1-NN & \\textcolor{red}{\\textbf{1.0000}} & \\textcolor{red}{\\textbf{1.0000}} & 0.9990 & 0.9990 & \\textcolor{red}{\\textbf{1.0000}} & \\textcolor{red}{\\textbf{1.0000}} & \\textcolor{red}{\\textbf{1.0000}} & 0.9970 \\\\ \\hline\n",
      "Decision Tree & 0.9960 & 0.9890 & 0.9960 & \\textcolor{red}{\\textbf{1.0000}} & 0.9930 & 0.9950 & 0.9980 & 0.7670 \\\\ \\hline\n",
      "\\end{tabular}\n",
      "Synthetic Kruskal-Wallis test\n",
      "\\begin{tabular}{|l|c|c|c|c|c|c|c|c|}\n",
      "\\hline\n",
      "\\textbf{Kruskal-Wallis test} & With 150 shapelets & With 75 shapelets & With 30 shapelets & With 10 shapelets & With 5 shapelets & With 10 clusters & With 5 clusters & On raw data \\\\ \\hline\n",
      "Naive Bayes & 0.9970 & 0.9970 & 0.9990 & 0.9990 & \\textcolor{red}{\\textbf{1.0000}} & \\textcolor{red}{\\textbf{1.0000}} & \\textcolor{red}{\\textbf{1.0000}} & 0.9130 \\\\ \\hline\n",
      "SVM (Linear) & \\textcolor{red}{\\textbf{1.0000}} & \\textcolor{red}{\\textbf{1.0000}} & 0.9990 & 0.9990 & \\textcolor{red}{\\textbf{1.0000}} & \\textcolor{red}{\\textbf{1.0000}} & \\textcolor{red}{\\textbf{1.0000}} & 0.9360 \\\\ \\hline\n",
      "Random Forest & 0.9980 & 0.9980 & 0.9990 & 0.9980 & \\textcolor{red}{\\textbf{1.0000}} & 0.9980 & \\textcolor{red}{\\textbf{1.0000}} & 0.9340 \\\\ \\hline\n",
      "1-NN & \\textcolor{red}{\\textbf{1.0000}} & \\textcolor{red}{\\textbf{1.0000}} & 0.9990 & 0.9990 & \\textcolor{red}{\\textbf{1.0000}} & \\textcolor{red}{\\textbf{1.0000}} & \\textcolor{red}{\\textbf{1.0000}} & 0.9970 \\\\ \\hline\n",
      "Decision Tree & 0.9870 & 0.9910 & \\textcolor{red}{\\textbf{1.0000}} & 0.9960 & \\textcolor{red}{\\textbf{1.0000}} & 0.9990 & 0.9790 & 0.7560 \\\\ \\hline\n",
      "\\end{tabular}\n",
      "Synthetic Mood's median test\n",
      "\\begin{tabular}{|l|c|c|c|c|c|c|c|c|}\n",
      "\\hline\n",
      "\\textbf{Mood's median test} & With 150 shapelets & With 75 shapelets & With 30 shapelets & With 10 shapelets & With 5 shapelets & With 10 clusters & With 5 clusters & On raw data \\\\ \\hline\n",
      "Naive Bayes & 0.9970 & 0.9970 & 0.9990 & 0.9990 & \\textcolor{red}{\\textbf{1.0000}} & \\textcolor{red}{\\textbf{1.0000}} & \\textcolor{red}{\\textbf{1.0000}} & 0.9130 \\\\ \\hline\n",
      "SVM (Linear) & \\textcolor{red}{\\textbf{1.0000}} & \\textcolor{red}{\\textbf{1.0000}} & 0.9990 & 0.9990 & \\textcolor{red}{\\textbf{1.0000}} & \\textcolor{red}{\\textbf{1.0000}} & \\textcolor{red}{\\textbf{1.0000}} & 0.9360 \\\\ \\hline\n",
      "Random Forest & \\textcolor{red}{\\textbf{1.0000}} & \\textcolor{red}{\\textbf{1.0000}} & 0.9990 & \\textcolor{red}{\\textbf{1.0000}} & \\textcolor{red}{\\textbf{1.0000}} & 0.9980 & 0.9990 & 0.9350 \\\\ \\hline\n",
      "1-NN & \\textcolor{red}{\\textbf{1.0000}} & \\textcolor{red}{\\textbf{1.0000}} & 0.9990 & 0.9990 & \\textcolor{red}{\\textbf{1.0000}} & \\textcolor{red}{\\textbf{1.0000}} & \\textcolor{red}{\\textbf{1.0000}} & 0.9970 \\\\ \\hline\n",
      "Decision Tree & 0.9980 & 0.9920 & 0.9910 & \\textbf{0.9990} & \\textbf{0.9990} & 0.9920 & 0.9980 & 0.7600 \\\\ \\hline\n",
      "\\end{tabular}\n",
      "ECG200 F_stat\n",
      "Failed\n",
      "ECG200 Information Gain\n",
      "Failed\n",
      "ECG200 Kruskal-Wallis test\n",
      "Failed\n",
      "ECG200 Mood's median test\n",
      "Failed\n",
      "ECG Five Days F_stat\n",
      "Failed\n",
      "ECG Five Days Information Gain\n",
      "Failed\n",
      "ECG Five Days Kruskal-Wallis test\n",
      "Failed\n",
      "ECG Five Days Mood's median test\n",
      "Failed\n",
      "Two Lead ECG F_stat\n",
      "Failed\n",
      "Two Lead ECG Information Gain\n",
      "Failed\n",
      "Two Lead ECG Kruskal-Wallis test\n",
      "Failed\n",
      "Two Lead ECG Mood's median test\n",
      "Failed\n",
      "Mote Strain F_stat\n",
      "Failed\n",
      "Mote Strain Information Gain\n",
      "Failed\n",
      "Mote Strain Kruskal-Wallis test\n",
      "Failed\n",
      "Mote Strain Mood's median test\n",
      "Failed\n",
      "Sony Robot F_stat\n",
      "Failed\n",
      "Sony Robot Information Gain\n",
      "Failed\n",
      "Sony Robot Kruskal-Wallis test\n",
      "Failed\n",
      "Sony Robot Mood's median test\n",
      "Failed\n",
      "Beef F_stat\n",
      "Failed\n",
      "Beef Information Gain\n",
      "Failed\n",
      "Beef Kruskal-Wallis test\n",
      "Failed\n",
      "Beef Mood's median test\n",
      "Failed\n"
     ]
    }
   ],
   "source": [
    "for dataset_name in x_dataset_name:\n",
    "    for quality_measure_name in x_quality_measure:\n",
    "        print(dataset_name, quality_measure_name)\n",
    "        try:\n",
    "            print(convert_to_latex_table(data[dataset_name][quality_measure_name], quality_measure_name))\n",
    "        except:\n",
    "            print(\"Failed\")"
   ]
  },
  {
   "cell_type": "code",
   "execution_count": null,
   "id": "08a3862d-4530-44f4-85fe-44a780634c72",
   "metadata": {},
   "outputs": [],
   "source": []
  }
 ],
 "metadata": {
  "kernelspec": {
   "display_name": "Python 3 (ipykernel)",
   "language": "python",
   "name": "python3"
  },
  "language_info": {
   "codemirror_mode": {
    "name": "ipython",
    "version": 3
   },
   "file_extension": ".py",
   "mimetype": "text/x-python",
   "name": "python",
   "nbconvert_exporter": "python",
   "pygments_lexer": "ipython3",
   "version": "3.11.5"
  }
 },
 "nbformat": 4,
 "nbformat_minor": 5
}
