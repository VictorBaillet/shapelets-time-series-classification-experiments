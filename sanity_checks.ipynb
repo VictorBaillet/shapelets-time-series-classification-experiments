{
 "cells": [
  {
   "cell_type": "markdown",
   "id": "4b8610bf-0583-49d7-8ddc-8dfce1e87142",
   "metadata": {},
   "source": [
    "# Functions sanity checks\n",
    "\n",
    "Playground to test the behavior of the main functions "
   ]
  },
  {
   "cell_type": "code",
   "execution_count": 21,
   "id": "161d3f21-8a64-45f2-9e10-acf5205df27e",
   "metadata": {
    "tags": []
   },
   "outputs": [],
   "source": [
    "import numpy as np\n",
    "from tqdm import tqdm\n",
    "import random\n",
    "\n",
    "from utils.quality_measures import *\n",
    "from utils.shapelets_transform import *"
   ]
  },
  {
   "cell_type": "markdown",
   "id": "03f0016f-165c-491d-a697-270863023764",
   "metadata": {},
   "source": [
    "## Shapelet transform"
   ]
  },
  {
   "cell_type": "markdown",
   "id": "db2f4756-449b-4e32-a577-ca72c61af05c",
   "metadata": {},
   "source": [
    "#### Distance between a shapelet and a time series"
   ]
  },
  {
   "cell_type": "code",
   "execution_count": 2,
   "id": "b921ef99-3e14-427f-9316-2afd170c4044",
   "metadata": {
    "tags": []
   },
   "outputs": [
    {
     "name": "stdout",
     "output_type": "stream",
     "text": [
      "Calculated distance between [1. 2. 3.] and [0. 1. 2. 3. 4. 5. 6.] : 0.0\n",
      "Calculated distance between [1. 2. 2.] and [0. 1. 2. 3. 4. 5. 6.] : 0.13874338222577245\n"
     ]
    }
   ],
   "source": [
    "def test_calculate_distance(shapelet, time_series):\n",
    "    # Calculate the distance\n",
    "    distance = calculate_distance(shapelet, time_series)\n",
    "\n",
    "    # Print the result\n",
    "    print(f\"Calculated distance between {shapelet} and {time_series} : {distance}\")\n",
    "\n",
    "# Run the test\n",
    "shapelet = np.array([1, 2, 3], dtype=float)\n",
    "time_series = np.array([0, 1, 2, 3, 4, 5, 6], dtype=float)\n",
    "test_calculate_distance(shapelet, time_series)\n",
    "\n",
    "shapelet = np.array([1, 2, 2], dtype=float)\n",
    "time_series = np.array([0, 1, 2, 3, 4, 5, 6], dtype=float)\n",
    "test_calculate_distance(shapelet, time_series)"
   ]
  },
  {
   "cell_type": "markdown",
   "id": "9c05a5ce-1e7b-4532-8e41-d514344a0b61",
   "metadata": {},
   "source": [
    "#### Set of distances"
   ]
  },
  {
   "cell_type": "code",
   "execution_count": 3,
   "id": "28fafe5a-4fae-4fdd-a5ee-cf439edd9e20",
   "metadata": {
    "tags": []
   },
   "outputs": [
    {
     "name": "stdout",
     "output_type": "stream",
     "text": [
      "Expected distances: [0.         0.         0.12179217]\n",
      "Calculated distances: [0.         0.         0.12179217]\n"
     ]
    }
   ],
   "source": [
    "def test_calculate_distances_for_set():\n",
    "    # Define a shapelet and a set of time series\n",
    "    shapelet = np.array([1, 2, 3], dtype=float)\n",
    "    time_series_set = np.array([\n",
    "        [0, 1, 2, 3, 4, 5, 6],\n",
    "        [1, 2, 3, 4, 5, 6, 7],\n",
    "        [2, 3, 4, 5, 6, 7, 8]\n",
    "    ], dtype=float)\n",
    "\n",
    "    # Expected distances\n",
    "    a = np.array([1.,2.,3.]) / np.linalg.norm([1.,2.,3.])\n",
    "    b = np.array([2.,3.,4.]) / np.linalg.norm([2.,3.,4.])\n",
    "    expected_distances = np.array([0.0, 0.0, np.linalg.norm(a - b)])  # The third distance is the Euclidean distance between normalized [1,2,3] and [2,3,4]\n",
    "\n",
    "    # Calculate the distances\n",
    "    distances = calculate_distances_for_set(shapelet, time_series_set)\n",
    "\n",
    "    # Check if the calculated distances match the expected distances\n",
    "    print(\"Expected distances:\", expected_distances)\n",
    "    print(\"Calculated distances:\", distances)\n",
    "\n",
    "# Run the test\n",
    "test_calculate_distances_for_set()"
   ]
  },
  {
   "cell_type": "markdown",
   "id": "fa6e03c7-f38a-4b1e-8afc-c00c00935fe1",
   "metadata": {},
   "source": [
    "#### Generate candidates"
   ]
  },
  {
   "cell_type": "code",
   "execution_count": 4,
   "id": "1ff5d6f8-69f0-46c0-9494-42a196372deb",
   "metadata": {
    "tags": []
   },
   "outputs": [
    {
     "name": "stdout",
     "output_type": "stream",
     "text": [
      "Generated candidates:\n",
      " [[array([1, 2, 3]), 0], [array([2, 3, 4]), 1], [array([3, 4, 5]), 2], [array([4, 5, 6]), 3]]\n"
     ]
    }
   ],
   "source": [
    "time_series_example = np.array([1, 2, 3, 4, 5, 6])\n",
    "subsequence_length = 3\n",
    "\n",
    "candidates = generate_candidates(time_series_example, subsequence_length)\n",
    "print(\"Generated candidates:\\n\", candidates)"
   ]
  },
  {
   "cell_type": "markdown",
   "id": "ad37225f-8019-4181-8dc7-db2f0be6be3e",
   "metadata": {},
   "source": [
    "#### Remove self-similar"
   ]
  },
  {
   "cell_type": "code",
   "execution_count": 5,
   "id": "4ac615eb-b8af-4463-9046-2f8e822f5eff",
   "metadata": {
    "tags": []
   },
   "outputs": [
    {
     "name": "stdout",
     "output_type": "stream",
     "text": [
      "Non-similar shapelets: [([7, 8, 9], 0.98, 6), ([1, 2, 3, 4], 0.95, 0), ([11, 12, 13], 0.94, 10), ([5, 6], 0.84, 4)]\n"
     ]
    }
   ],
   "source": [
    "shapelets = [\n",
    "    # (shapelet, quality, index)\n",
    "    ([7, 8, 9], 0.98, 6),     # Highest quality, no overlap\n",
    "    ([1, 2, 3, 4], 0.95, 0),  # High quality, early in the series\n",
    "    ([11, 12, 13], 0.94, 10), # High quality, no overlap\n",
    "    ([2, 3, 4, 5], 0.90, 1),  # Overlaps with the second, lower quality\n",
    "    ([3, 4, 5, 6], 0.85, 2),  # Overlaps with the second and fourth, lowest quality\n",
    "    ([5, 6], 0.84, 4), \n",
    "    ([8, 9, 10], 0.83, 7),    # Overlaps with the first, lower quality\n",
    "]\n",
    "\n",
    "non_similar_shapelets = remove_self_similar(shapelets)\n",
    "print(\"Non-similar shapelets:\", non_similar_shapelets)"
   ]
  },
  {
   "cell_type": "markdown",
   "id": "6bc2c7e7-7520-47a6-9c26-c1cead0fdc13",
   "metadata": {},
   "source": [
    "#### Merge"
   ]
  },
  {
   "cell_type": "code",
   "execution_count": 6,
   "id": "ae4729ae-537d-4777-8dff-32428767965d",
   "metadata": {
    "tags": []
   },
   "outputs": [
    {
     "name": "stdout",
     "output_type": "stream",
     "text": [
      "Merged shapelets: [array([list([3, 2, 1]), 0.95], dtype=object), array([list([2, -6, -2]), 0.93], dtype=object)]\n"
     ]
    }
   ],
   "source": [
    "k = 2\n",
    "k_shapelets = np.array([([3, 2, 1], 0.95), ([4, 2, 7], 0.90)], dtype=object)\n",
    "x_shapelet = np.array([([2, -6, -2], 0.93), ([8, -1, 3], 0.85)], dtype=object)\n",
    "\n",
    "merged = merge(k, k_shapelets, x_shapelet)\n",
    "print(\"Merged shapelets:\", merged)"
   ]
  },
  {
   "cell_type": "markdown",
   "id": "0fbb3686-2201-4569-965d-15cd37fb6efe",
   "metadata": {},
   "source": [
    "#### Shapelet Cached Selection"
   ]
  },
  {
   "cell_type": "code",
   "execution_count": 7,
   "id": "34a81b27-3157-4994-a0ab-3dd50e01ff35",
   "metadata": {
    "tags": []
   },
   "outputs": [
    {
     "name": "stdout",
     "output_type": "stream",
     "text": [
      "Selected shapelets: [(array([4., 5., 4.]), 30.770944907268657, 3), (array([4. , 5.1, 4. ]), 29.931165214435683, 1), (array([3.9, 5. , 4. ]), 29.89565264226702, 0), (array([-7.1,  2.1, 15.1, -6. ]), 18.496007683660658, 2), (array([-7.9,  1.9, 15. ,  0.1]), 6.686056844285656, 0)]\n"
     ]
    }
   ],
   "source": [
    "x_T = np.array([[-7.9, 1.9, 15, 0.1, 0, 0, 1],\n",
    "       [0, -0.1, -7.1, 2.1, 15.1, -6, 1],\n",
    "       [-0.1, 4, 5.1, 4, 0, 0, 3],\n",
    "       [0, 0.2, 0, 4, 5, 4, -2],\n",
    "       [3.9, 5, 4, 0, 0.3, -5, 5]\n",
    "])\n",
    "\n",
    "x_labels = np.array([0, 0, 1, 1, 1], dtype=float)\n",
    "\n",
    "# Test the function\n",
    "min_length = 3\n",
    "max_length = 4\n",
    "k = 5\n",
    "selected_shapelets = shapelet_cached_selection(x_T, x_labels, min_length, max_length, k, compute_f_stat)\n",
    "print(\"Selected shapelets:\", selected_shapelets)\n",
    "x_shapelets = []\n",
    "for shap in selected_shapelets:\n",
    "    x_shapelets.append((shap[0]))"
   ]
  },
  {
   "cell_type": "markdown",
   "id": "b429aeba-3c55-4069-8f90-ad3dcb78668d",
   "metadata": {},
   "source": [
    "#### Estimate min/max"
   ]
  },
  {
   "cell_type": "code",
   "execution_count": 8,
   "id": "8fa73240-02a3-4d78-a235-c1ea73772cf9",
   "metadata": {
    "tags": []
   },
   "outputs": [
    {
     "name": "stderr",
     "output_type": "stream",
     "text": [
      "100%|██████████| 10/10 [00:04<00:00,  2.01it/s]"
     ]
    },
    {
     "name": "stdout",
     "output_type": "stream",
     "text": [
      "Estimated Min Length: 6\n",
      "Estimated Max Length: 9\n"
     ]
    },
    {
     "name": "stderr",
     "output_type": "stream",
     "text": [
      "\n"
     ]
    }
   ],
   "source": [
    "# Mock dataset for testing\n",
    "T = np.array([np.random.rand(20) for _ in range(50)])\n",
    "x_labels = np.array([np.random.randint(0, 2) for _ in range(50)])\n",
    "\n",
    "# Test the function\n",
    "min_length, max_length = estimate_min_and_max(T, x_labels, compute_ig)\n",
    "print(\"Estimated Min Length:\", min_length)\n",
    "print(\"Estimated Max Length:\", max_length)"
   ]
  },
  {
   "cell_type": "markdown",
   "id": "b3a73ed1-9afd-4de6-9123-7a3b1c247d6b",
   "metadata": {},
   "source": [
    "#### Distance between two shapelets"
   ]
  },
  {
   "cell_type": "code",
   "execution_count": 9,
   "id": "98a15291-10f5-4f67-ba0c-0f547e54e5b0",
   "metadata": {
    "tags": []
   },
   "outputs": [
    {
     "name": "stdout",
     "output_type": "stream",
     "text": [
      "Similar shapelets ([4. 5. 4.] and [4.  5.1 4. ] : 0.009837650343284144\n",
      "Dissimilar shapelets ([4. 5. 4.] and [-7.1  2.1 15.1 -6. ]): 1.0156143485330422\n"
     ]
    }
   ],
   "source": [
    "print(f\"Similar shapelets ({x_shapelets[0]} and {x_shapelets[1]} :\", dS(x_shapelets[0], x_shapelets[1]))\n",
    "print(f\"Dissimilar shapelets ({x_shapelets[0]} and {x_shapelets[3]}):\" , dS(x_shapelets[0], x_shapelets[3]))"
   ]
  },
  {
   "cell_type": "markdown",
   "id": "593d6475-d3ea-4bc5-9b10-3f94b220232e",
   "metadata": {},
   "source": [
    "#### Clustering"
   ]
  },
  {
   "cell_type": "code",
   "execution_count": 10,
   "id": "9aecc097-4308-4ae0-8457-cea8eb4b6529",
   "metadata": {
    "tags": []
   },
   "outputs": [
    {
     "name": "stdout",
     "output_type": "stream",
     "text": [
      "Clusters: [{(2.0, 4.0), (1.0, 2.0), (3.0, 6.0)}, {(2.0, -2.0), (3.0, -3.0), (1.0, -1.0)}]\n"
     ]
    }
   ],
   "source": [
    "shapelets = [[1., 2.], [2., 4.], [3., 6.], [1., -1.], [2., -2.], [3., -3.]]\n",
    "noClusters = 2\n",
    "clusters = cluster_shapelets(shapelets, noClusters)\n",
    "print(\"Clusters:\", clusters)"
   ]
  },
  {
   "cell_type": "code",
   "execution_count": 11,
   "id": "43bd9e84-bf82-4efd-98c2-6ae1bd1b088b",
   "metadata": {},
   "outputs": [
    {
     "name": "stdout",
     "output_type": "stream",
     "text": [
      "Clusters: [{(4.0, 5.1, 4.0), (3.9, 5.0, 4.0), (4.0, 5.0, 4.0)}, {(-7.9, 1.9, 15.0, 0.1), (-7.1, 2.1, 15.1, -6.0)}]\n"
     ]
    }
   ],
   "source": [
    "## For our synthetic dataset\n",
    "clusters = cluster_shapelets(x_shapelets, noClusters)\n",
    "print(\"Clusters:\", clusters)"
   ]
  },
  {
   "cell_type": "markdown",
   "id": "fa0a9ce6-6afe-45ac-9db7-bc163797822a",
   "metadata": {},
   "source": [
    "## HAC clustering"
   ]
  },
  {
   "cell_type": "code",
   "execution_count": 12,
   "id": "9bc7e8d4-91ae-4e7e-9548-0c1679bcfa62",
   "metadata": {
    "tags": []
   },
   "outputs": [
    {
     "name": "stdout",
     "output_type": "stream",
     "text": [
      "Clusters: [{(2.0, -2.0), (3.0, -3.0), (1.0, -1.0)}, {(2.0, 4.0), (1.0, 2.0), (3.0, 6.0)}]\n"
     ]
    }
   ],
   "source": [
    "# Example usage\n",
    "shapelets = np.array([[1., 2.], [1., -1.], [2., 4.], [3., 6.], [2., -2.], [3., -3.]])\n",
    "noClusters = 2\n",
    "clusters = hac_cluster_shapelets(shapelets, noClusters)\n",
    "print(\"Clusters:\", clusters)"
   ]
  },
  {
   "cell_type": "code",
   "execution_count": 13,
   "id": "dd66b5ff-3bf8-40f7-940f-f42732356acf",
   "metadata": {
    "tags": []
   },
   "outputs": [
    {
     "name": "stdout",
     "output_type": "stream",
     "text": [
      "Clusters: [{(-7.9, 1.9, 15.0, 0.1), (-7.1, 2.1, 15.1, -6.0)}, {(4.0, 5.1, 4.0), (3.9, 5.0, 4.0), (4.0, 5.0, 4.0)}]\n"
     ]
    }
   ],
   "source": [
    "## For our synthetic dataset\n",
    "clusters = hac_cluster_shapelets(x_shapelets, noClusters)\n",
    "print(\"Clusters:\", clusters)"
   ]
  },
  {
   "cell_type": "markdown",
   "id": "39da086b-5d92-4714-b85c-073a624de149",
   "metadata": {},
   "source": [
    "#### Shapelets transform -- without clusters"
   ]
  },
  {
   "cell_type": "code",
   "execution_count": 14,
   "id": "7d321029-5829-4040-99b9-4b70a9c3558c",
   "metadata": {
    "tags": []
   },
   "outputs": [
    {
     "name": "stdout",
     "output_type": "stream",
     "text": [
      "[[0.73880678 0.72972586 0.73416926 0.34976991 0.        ]\n",
      " [1.01561435 1.00783884 1.01395734 0.         0.34976991]\n",
      " [0.00983765 0.         0.0100921  1.04236881 0.82902668]\n",
      " [0.         0.00983765 0.0113124  1.05419707 0.84329815]\n",
      " [0.0113124  0.0100921  0.         1.16380968 1.18110255]]\n"
     ]
    }
   ],
   "source": [
    "print(shapelets_transform(x_shapelets, x_T))"
   ]
  },
  {
   "cell_type": "markdown",
   "id": "e586f7c2-d0fd-420a-8d4c-39bfa41bf253",
   "metadata": {},
   "source": [
    "#### Shapelets transform -- with clusters"
   ]
  },
  {
   "cell_type": "code",
   "execution_count": 15,
   "id": "1184dcb4-127b-4b12-9f08-7e6a0dea1fbe",
   "metadata": {
    "tags": []
   },
   "outputs": [
    {
     "data": {
      "text/plain": [
       "array([[0.73423397, 0.17488495],\n",
       "       [1.01247017, 0.17488495],\n",
       "       [0.00664325, 0.93569774],\n",
       "       [0.00705002, 0.94874761],\n",
       "       [0.00713483, 1.17245612]])"
      ]
     },
     "execution_count": 15,
     "metadata": {},
     "output_type": "execute_result"
    }
   ],
   "source": [
    "## For our synthetic dataset\n",
    "clusters = cluster_shapelets(x_shapelets, noClusters)\n",
    "\n",
    "list_cluster = []\n",
    "for c in clusters:\n",
    "    list_cluster.append(list(c))\n",
    "\n",
    "shapelets_cluster_transform(list_cluster, x_T)"
   ]
  },
  {
   "cell_type": "markdown",
   "id": "a373910d-3e86-43e7-b338-02cc5f8badc9",
   "metadata": {},
   "source": [
    "## Quality measures"
   ]
  },
  {
   "cell_type": "markdown",
   "id": "1110d1bb-17f0-4481-b0a7-56129a22f784",
   "metadata": {},
   "source": [
    "#### F-stat"
   ]
  },
  {
   "cell_type": "code",
   "execution_count": 16,
   "id": "eee8feba-b91f-4ab5-8846-758cdf5293d3",
   "metadata": {
    "tags": []
   },
   "outputs": [
    {
     "name": "stdout",
     "output_type": "stream",
     "text": [
      "Computed F-statistic for the first dataset: 5.0\n",
      "Computed F-statistic for the second dataset: 0.05\n",
      "We expect the second one to be lower than the first one\n"
     ]
    }
   ],
   "source": [
    "def test_compute_f_stat():\n",
    "    # Create two simple datasets\n",
    "    x_distance_1 = np.array([1, 2, 3, 4, 5, 6, 7, 8, 9, 10])\n",
    "    x_labels_1 = np.array([0, 0, 0, 0, 0, 1, 1, 1, 1, 1])\n",
    "    \n",
    "    x_distance_2 = np.array([1, 2, 3, 4, 5, 6, 7, 8, 9, 10])\n",
    "    x_labels_2 = np.array([0, 1, 0, 1, 0, 1, 0, 1, 0, 1])\n",
    "\n",
    "    # Compute F-statistic\n",
    "    f_stat_1 = compute_f_stat(x_distance_1, x_labels_1)\n",
    "    f_stat_2 = compute_f_stat(x_distance_2, x_labels_2)\n",
    "\n",
    "    # Print the result\n",
    "    print(\"Computed F-statistic for the first dataset:\", f_stat_1)\n",
    "    print(\"Computed F-statistic for the second dataset:\", f_stat_2)\n",
    "    print(\"We expect the second one to be lower than the first one\")\n",
    "\n",
    "# Run the test\n",
    "test_compute_f_stat()"
   ]
  },
  {
   "cell_type": "markdown",
   "id": "a07dbcc2-2391-48b2-af0f-a63ba7ff6071",
   "metadata": {},
   "source": [
    "#### Entropy"
   ]
  },
  {
   "cell_type": "code",
   "execution_count": 17,
   "id": "9d971bb9-8b8a-4acf-aa4c-2b3fdd2782bf",
   "metadata": {
    "tags": []
   },
   "outputs": [
    {
     "name": "stdout",
     "output_type": "stream",
     "text": [
      "Entropy of [0 0 0 0 0] : -0.0\n",
      "Entropy of [0 1 3 2 0] : 1.3321790402101223\n",
      "Entropy of [0 1 2 3 4] : 1.6094379124341005\n"
     ]
    }
   ],
   "source": [
    "## Example\n",
    "x_labels_1 = np.array([0, 0, 0, 0, 0])\n",
    "x_labels_2 = np.array([0, 1, 3, 2, 0])\n",
    "x_labels_3 = np.array([0, 1, 2, 3, 4])\n",
    "print(f\"Entropy of {x_labels_1} : {compute_entropy(x_labels_1)}\")\n",
    "print(f\"Entropy of {x_labels_2} : {compute_entropy(x_labels_2)}\")\n",
    "print(f\"Entropy of {x_labels_3} : {compute_entropy(x_labels_3)}\")"
   ]
  },
  {
   "cell_type": "markdown",
   "id": "f3ab90d4-21f2-472d-8763-72d0c96996c4",
   "metadata": {},
   "source": [
    "#### Information gain\n"
   ]
  },
  {
   "cell_type": "code",
   "execution_count": 18,
   "id": "2b7510e2-fd77-4e23-8ecd-6003ec0a78e1",
   "metadata": {
    "tags": []
   },
   "outputs": [
    {
     "name": "stdout",
     "output_type": "stream",
     "text": [
      "Information Gain: 0.6730116670092565\n",
      "Information Gain: 0.22314355131420988\n"
     ]
    }
   ],
   "source": [
    "# Test the function\n",
    "x_D_1 = np.array([0.1, 0.4, 0.3, 0.7, 0.2])\n",
    "x_label_1 = np.array([0, 1, 0, 1, 0])\n",
    "\n",
    "x_D_2 = np.array([0.1, 0.15, 0.05, 0.11, 0.12])\n",
    "x_label_2 = np.array([1, 0, 0, 1, 1])\n",
    "\n",
    "information_gain = compute_ig(x_D_1, x_label_1)\n",
    "print(\"Information Gain:\", information_gain)\n",
    "information_gain = compute_ig(x_D_2, x_label_2)\n",
    "print(\"Information Gain:\", information_gain)"
   ]
  },
  {
   "cell_type": "markdown",
   "id": "9afa316f-e81e-4412-ae42-73cf5c3583b6",
   "metadata": {},
   "source": [
    "#### Kruskal-Wallis"
   ]
  },
  {
   "cell_type": "code",
   "execution_count": 19,
   "id": "d25346cc-1254-436d-b84b-871bfbcdf092",
   "metadata": {
    "tags": []
   },
   "outputs": [
    {
     "name": "stdout",
     "output_type": "stream",
     "text": [
      "Kruskal-Wallis Statistic: 3.0\n",
      "Kruskal-Wallis Statistic: 0.3333333333333357\n"
     ]
    }
   ],
   "source": [
    "x_D_1 = np.array([0.1, 0.4, 0.3, 0.7, 0.2])\n",
    "x_label_1 = np.array([0, 1, 0, 1, 0])\n",
    "\n",
    "x_D_2 = np.array([0.1, 0.15, 0.05, 0.11, 0.12])\n",
    "x_label_2 = np.array([1, 0, 0, 1, 1])\n",
    "\n",
    "kw_statistic = compute_kruskal_wallis_test(x_D_1, x_label_1)\n",
    "print(\"Kruskal-Wallis Statistic:\", kw_statistic)\n",
    "\n",
    "kw_statistic = compute_kruskal_wallis_test(x_D_2, x_label_2)\n",
    "print(\"Kruskal-Wallis Statistic:\", kw_statistic)"
   ]
  },
  {
   "cell_type": "markdown",
   "id": "c09e5fed-3849-475a-85b1-a9dc1afe4fb3",
   "metadata": {},
   "source": [
    "#### Mood's median"
   ]
  },
  {
   "cell_type": "code",
   "execution_count": 20,
   "id": "c41f373f-1bec-41eb-9337-a23bfbe9a4dd",
   "metadata": {
    "tags": []
   },
   "outputs": [
    {
     "name": "stdout",
     "output_type": "stream",
     "text": [
      "Mood's median Statistic: 2.333333333333333\n",
      "Mood's median Statistic: 0.3333333333333333\n"
     ]
    }
   ],
   "source": [
    "# Test the function\n",
    "x_D_1 = np.array([0.1, 0.4, 0.3, 0.7, 0.2])\n",
    "x_label_1 = np.array([0, 1, 0, 1, 0])\n",
    "\n",
    "x_D_2 = np.array([0.1, 0.15, 0.05, 0.11, 0.12])\n",
    "x_label_2 = np.array([1, 0, 0, 1, 1])\n",
    "\n",
    "kw_statistic = compute_mood_median_test(x_D_1, x_label_1)\n",
    "print(\"Mood's median Statistic:\", kw_statistic)\n",
    "\n",
    "kw_statistic = compute_mood_median_test(x_D_2, x_label_2)\n",
    "print(\"Mood's median Statistic:\", kw_statistic)"
   ]
  }
 ],
 "metadata": {
  "kernelspec": {
   "display_name": "Python 3 (ipykernel)",
   "language": "python",
   "name": "python3"
  },
  "language_info": {
   "codemirror_mode": {
    "name": "ipython",
    "version": 3
   },
   "file_extension": ".py",
   "mimetype": "text/x-python",
   "name": "python",
   "nbconvert_exporter": "python",
   "pygments_lexer": "ipython3",
   "version": "3.11.5"
  }
 },
 "nbformat": 4,
 "nbformat_minor": 5
}
