{
 "cells": [
  {
   "cell_type": "markdown",
   "id": "87269b13-8f9a-4d25-9249-845c5e9da191",
   "metadata": {},
   "source": [
    "# Exploring Time Series Classification Performance on Various Datasets\n",
    "\n",
    "This Jupyter notebook evaluates the performance of different classification models on a variety of time series datasets. It includes experiments with classifiers such as Naive Bayes, Random Forest, Support Vector Machine (SVM), k-Nearest Neighbors (k-NN), and Decision Tree."
   ]
  },
  {
   "cell_type": "code",
   "execution_count": 1,
   "id": "49216e5f-b194-4392-9044-288eadcee6d0",
   "metadata": {
    "tags": []
   },
   "outputs": [],
   "source": [
    "import numpy as np\n",
    "from tqdm import tqdm\n",
    "from sklearn.metrics import accuracy_score\n",
    "from sklearn.naive_bayes import GaussianNB\n",
    "from sklearn.ensemble import RandomForestClassifier\n",
    "from sklearn.svm import SVC\n",
    "from sklearn.neighbors import KNeighborsClassifier\n",
    "from sklearn.tree import DecisionTreeClassifier\n",
    "import json\n",
    "import time\n",
    "\n",
    "from utils.shapelets_transform import *\n",
    "from utils.quality_measures import *"
   ]
  },
  {
   "cell_type": "code",
   "execution_count": 2,
   "id": "2bad4555-8950-4f89-8e49-cfd1b9b24ea0",
   "metadata": {
    "tags": []
   },
   "outputs": [],
   "source": [
    "processed_datasets_folder = \"datasets/preprocessed_datasets\""
   ]
  },
  {
   "cell_type": "markdown",
   "id": "fc70af90-46d1-4fb4-9d2e-7acde060d440",
   "metadata": {},
   "source": [
    "## Classification models"
   ]
  },
  {
   "cell_type": "code",
   "execution_count": 3,
   "id": "9cbacce9-bc4f-4383-b074-5b2669e753af",
   "metadata": {
    "tags": []
   },
   "outputs": [],
   "source": [
    "# Initialize models\n",
    "models = {\n",
    "    \"Naive Bayes\": GaussianNB(),\n",
    "    \"Random Forest\": RandomForestClassifier(),\n",
    "    \"SVM (Linear)\": SVC(kernel='linear'),\n",
    "    \"1-NN\": KNeighborsClassifier(n_neighbors=1),\n",
    "    \"Decision Tree\": DecisionTreeClassifier(),\n",
    "}"
   ]
  },
  {
   "cell_type": "code",
   "execution_count": 4,
   "id": "4355bfc1-40e3-4b70-a011-bc392586eb27",
   "metadata": {
    "tags": []
   },
   "outputs": [],
   "source": [
    "def train_models(x_train, y_train, x_test, y_test):\n",
    "    # Train and evaluate models\n",
    "    results = {}\n",
    "    for name, model in models.items():\n",
    "        model.fit(x_train, y_train)\n",
    "        predictions = model.predict(x_test)\n",
    "        accuracy = accuracy_score(y_test, predictions)\n",
    "        results[name] = accuracy\n",
    "        \n",
    "    return results"
   ]
  },
  {
   "cell_type": "markdown",
   "id": "91416b98-5761-44f7-afed-588251370932",
   "metadata": {},
   "source": [
    "## Datasets"
   ]
  },
  {
   "cell_type": "code",
   "execution_count": 14,
   "id": "2b6f8b8e-6601-40b3-acbc-c213ff59e1a6",
   "metadata": {
    "tags": []
   },
   "outputs": [],
   "source": [
    "dataset_to_filenames = {\"GunPointAgeSpan\" : processed_datasets_folder + '/gun_nogun.npz',\n",
    "                        \"Synthetic\" : processed_datasets_folder + '/synthetic_dataset.npz',}\n",
    "                        \"ECG200\" : processed_datasets_folder + '/ecgs.npz',}\n",
    "                        \"ECG Five Days\" : processed_datasets_folder + '/ecg5days.npz',\n",
    "                        \"Two Lead ECG\" : processed_datasets_folder + '/twoleadecg.npz',\n",
    "                        \"Mote Strain\" : processed_datasets_folder + '/motestrain.npz',\n",
    "                        \"Sony Robot\" : processed_datasets_folder + '/sonyrobot.npz',\n",
    "                        \"Beef\" : processed_datasets_folder + '/beef.npz',}\n",
    "\n",
    "\"\"\"\n",
    "min_shapelet: The minimum length of shapelets considered.\n",
    "max_shapelet: The maximum length of shapelets considered.\n",
    "x_num_shapelets: A list of different numbers of shapelets to be used in the experiments.\n",
    "x_num_clusters: A list of different numbers of clusters for shapelet clustering experiments.\n",
    "\"\"\"\n",
    "dataset_to_parameters = {\"GunPointAgeSpan\" : \n",
    "                              {'min_shapelet' : 30,\n",
    "                               'max_shapelet' : 50,\n",
    "                               'x_num_shapelets' : [60, 30, 10, 5],\n",
    "                               'x_num_clusters' : [10, 5]},\n",
    "                         \"Synthetic\" : \n",
    "                              {'min_shapelet' : 13,\n",
    "                               'max_shapelet' : 30,\n",
    "                               'x_num_shapelets' : [150, 75, 30, 10, 5],\n",
    "                               'x_num_clusters' : [10, 5]},\n",
    "                         \"ECG200\" : \n",
    "                              {'min_shapelet' : 20,\n",
    "                               'max_shapelet' : 40,\n",
    "                               'x_num_shapelets' : [50, 25, 10, 5],\n",
    "                               'x_num_clusters' : [10, 5]},\n",
    "                         \"Beef\" : \n",
    "                              {'min_shapelet' : 40,\n",
    "                               'max_shapelet' : 60,\n",
    "                               'x_num_shapelets' : [15, 10, 5],\n",
    "                               'x_num_clusters' : [8, 5]},\n",
    "                         \"ECG Five Days\" : \n",
    "                              {'min_shapelet' : 10,\n",
    "                               'max_shapelet' : 40,\n",
    "                               'x_num_shapelets' : [10, 5],\n",
    "                               'x_num_clusters' : [7, 3]},\n",
    "                         \"Two Lead ECG\" : \n",
    "                              {'min_shapelet' : 10,\n",
    "                               'max_shapelet' : 30,\n",
    "                               'x_num_shapelets' : [10, 5],\n",
    "                               'x_num_clusters' : [7, 3]},\n",
    "                         \"Mote Strain\" : \n",
    "                              {'min_shapelet' : 10,\n",
    "                               'max_shapelet' : 30,\n",
    "                               'x_num_shapelets' : [10, 5],\n",
    "                               'x_num_clusters' : [7, 3]},\n",
    "                         \"Sony Robot\" : \n",
    "                              {'min_shapelet' : 7,\n",
    "                               'max_shapelet' : 25,\n",
    "                               'x_num_shapelets' : [13, 10, 5],\n",
    "                               'x_num_clusters' : [8, 5]},}"
   ]
  },
  {
   "cell_type": "markdown",
   "id": "425a5dd6-dfb8-406a-b298-b7f37cc9d443",
   "metadata": {},
   "source": [
    "## Quality measures"
   ]
  },
  {
   "cell_type": "code",
   "execution_count": 15,
   "id": "d9446b84-0b6d-4a5e-b791-f7e332a77080",
   "metadata": {
    "tags": []
   },
   "outputs": [],
   "source": [
    "quality_measures = {\"F_stat\" : compute_f_stat,\n",
    "                    \"Information Gain\" : compute_ig,\n",
    "                    \"Kruskal-Wallis test\" : compute_kruskal_wallis_test,\n",
    "                    \"Mood's median test\" : compute_mood_median_test}"
   ]
  },
  {
   "cell_type": "markdown",
   "id": "d2c5f656-4e06-4e8b-81eb-566421928fad",
   "metadata": {},
   "source": [
    "## Experiments"
   ]
  },
  {
   "cell_type": "code",
   "execution_count": 16,
   "id": "7fa66b86-4f74-4ab6-9533-8ff3de03fd70",
   "metadata": {
    "tags": []
   },
   "outputs": [],
   "source": [
    "def run_experiment(filename, parameters, quality_measure, dataset_name, quality_measure_name):\n",
    "    \"\"\"\n",
    "    Runs an experiment to evaluate shapelet-based time series classification.\n",
    "\n",
    "    Args:\n",
    "    filename (str): The path to a preprocessed dataset file in NumPy format.\n",
    "    parameters (dict): A dictionary containing experiment parameters.\n",
    "    quality_measure (function): A function to evaluate the quality of a shapelet.\n",
    "    dataset_name (str): The name of the dataset being used for the experiment.\n",
    "    quality_measure_name (str): The name of the quality measure being used.\n",
    "\n",
    "    Returns:\n",
    "    dict: A dictionary containing experiment results, including shapelet selection, transformation,\n",
    "          and classification performance under various conditions.\n",
    "    \"\"\"\n",
    "    data = np.load(filename)\n",
    "    x_train = data['array1']\n",
    "    y_train = data['array2']\n",
    "    x_test = data['array3']\n",
    "    y_test = data['array4']\n",
    "    result = {}\n",
    "    \n",
    "    Measure time for estimating min and max shapelet lengths\n",
    "    start_time = time.time()\n",
    "    result['estimated_min_max'] = estimate_min_and_max(x_train, y_train, quality_measure)\n",
    "    result['estimated_min_max_duration'] = time.time() - start_time\n",
    "    \n",
    "    # Select shapelets using quality measure\n",
    "    start_time = time.time()\n",
    "    x_shapelet = shapelet_cached_selection(x_train, y_train, parameters['min_shapelet'], parameters['max_shapelet'], len(x_train)//2, compute_f_stat, verbose=1)\n",
    "    result['shapelet_selection_duration'] = time.time() - start_time\n",
    "    \n",
    "    # Store selected shapelets in a JSON file\n",
    "    x_shapelet_list = []\n",
    "    x_shapelet_list_list = []\n",
    "    for shap in x_shapelet:\n",
    "        x_shapelet_list.append(shap[0])\n",
    "        x_shapelet_list_list.append(list(shap[0]))\n",
    "    with open(f'results/shapelets/{dataset_name}_{quality_measure_name}.json', 'w') as json_file:\n",
    "        json.dump(x_shapelet_list_list, json_file)\n",
    "        \n",
    "    # Evaluate models with different numbers of shapelets\n",
    "    for num_shapelets in parameters['x_num_shapelets']:\n",
    "        x_train_transformed = shapelets_transform(x_shapelet_list[:num_shapelets], x_train)\n",
    "        x_test_transformed = shapelets_transform(x_shapelet_list[:num_shapelets], x_test)\n",
    "        result[f'With {num_shapelets} shapelets'] = train_models(x_train_transformed, y_train, x_test_transformed, y_test)\n",
    "        \n",
    "    # Cluster shapelets and evaluate models with different numbers of clusters\n",
    "    for num_clusters in parameters['x_num_clusters']:\n",
    "        clusters = cluster_shapelets(x_shapelet_list, num_clusters)\n",
    "        list_cluster = []\n",
    "        for c in clusters:\n",
    "            list_cluster.append(list(c))\n",
    "        x_train_transformed = shapelets_cluster_transform(list_cluster, x_train)\n",
    "        x_test_transformed = shapelets_cluster_transform(list_cluster, x_test)\n",
    "        result[f'With {num_clusters} clusters'] = train_models(x_train_transformed, y_train, x_test_transformed, y_test)\n",
    "    \n",
    "    # Evaluate models using raw data\n",
    "    result['On raw data'] = train_models(x_train, y_train, x_test, y_test)\n",
    "    \n",
    "    return result"
   ]
  },
  {
   "cell_type": "markdown",
   "id": "ea52bb3d-5231-4059-a197-29b08b314d0f",
   "metadata": {},
   "source": [
    "## Main loop"
   ]
  },
  {
   "cell_type": "code",
   "execution_count": 17,
   "id": "ec715aa9-9b06-47c1-824f-54c06a457100",
   "metadata": {
    "tags": []
   },
   "outputs": [
    {
     "name": "stdout",
     "output_type": "stream",
     "text": [
      "Synthetic ...\n",
      "F_stat\n"
     ]
    },
    {
     "name": "stderr",
     "output_type": "stream",
     "text": [
      "100%|██████████| 100/100 [00:49<00:00,  2.00it/s]\n"
     ]
    },
    {
     "name": "stdout",
     "output_type": "stream",
     "text": [
      "Information Gain\n"
     ]
    },
    {
     "name": "stderr",
     "output_type": "stream",
     "text": [
      "100%|██████████| 100/100 [00:51<00:00,  1.94it/s]\n"
     ]
    },
    {
     "name": "stdout",
     "output_type": "stream",
     "text": [
      "Kruskal-Wallis test\n"
     ]
    },
    {
     "name": "stderr",
     "output_type": "stream",
     "text": [
      "100%|██████████| 100/100 [00:51<00:00,  1.93it/s]\n"
     ]
    },
    {
     "name": "stdout",
     "output_type": "stream",
     "text": [
      "Mood's median test\n"
     ]
    },
    {
     "name": "stderr",
     "output_type": "stream",
     "text": [
      "100%|██████████| 100/100 [00:49<00:00,  2.02it/s]\n"
     ]
    }
   ],
   "source": [
    "result = {}\n",
    "\n",
    "for dataset_name in dataset_to_filenames.keys():\n",
    "    print(f\"{dataset_name} ...\")\n",
    "    filename = dataset_to_filenames[dataset_name]\n",
    "    parameters = dataset_to_parameters[dataset_name]\n",
    "    result[dataset_name] = {}\n",
    "    \n",
    "    for quality_measure_name in quality_measures.keys():\n",
    "        print(quality_measure_name)\n",
    "        result[dataset_name][quality_measure_name] = run_experiment(filename, parameters, quality_measures[quality_measure_name], dataset_name, quality_measure_name)\n",
    "        with open(f'results/classification/{dataset_name}_{quality_measure_name}.json', 'w') as json_file:\n",
    "            json.dump(result, json_file)"
   ]
  }
 ],
 "metadata": {
  "kernelspec": {
   "display_name": "Python 3 (ipykernel)",
   "language": "python",
   "name": "python3"
  },
  "language_info": {
   "codemirror_mode": {
    "name": "ipython",
    "version": 3
   },
   "file_extension": ".py",
   "mimetype": "text/x-python",
   "name": "python",
   "nbconvert_exporter": "python",
   "pygments_lexer": "ipython3",
   "version": "3.11.5"
  }
 },
 "nbformat": 4,
 "nbformat_minor": 5
}
